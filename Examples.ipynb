{
 "cells": [
  {
   "cell_type": "code",
   "execution_count": 11,
   "id": "bcb64963",
   "metadata": {},
   "outputs": [],
   "source": [
    "from Astrophysics_Tools.FindNumberOfGroups import FindNumGroups\n",
    "from Astrophysics_Tools.File_Tools import Find_File_Types\n",
    "import pandas as pd\n",
    "from itertools import product\n"
   ]
  },
  {
   "cell_type": "markdown",
   "id": "8a06778c",
   "metadata": {},
   "source": [
    "# Example note book for functions"
   ]
  },
  {
   "cell_type": "markdown",
   "id": "def87044",
   "metadata": {},
   "source": [
    "## Find Number of Groups to Mask (Cheap and Dirty Solution)"
   ]
  },
  {
   "cell_type": "markdown",
   "id": "107304a7",
   "metadata": {},
   "source": [
    "### Single File"
   ]
  },
  {
   "cell_type": "code",
   "execution_count": 2,
   "id": "1ae5c5c3",
   "metadata": {},
   "outputs": [
    {
     "name": "stdout",
     "output_type": "stream",
     "text": [
      "Optiimized Groups using Summed+Nan is: 215\n"
     ]
    },
    {
     "data": {
      "text/plain": [
       "215"
      ]
     },
     "execution_count": 2,
     "metadata": {},
     "output_type": "execute_result"
    }
   ],
   "source": [
    "\n",
    "\n",
    "#Single File Example\n",
    "RefFile = '/Users/ajames/Documents/JWST Data/GO2538/GJ14/uncal/jw02538004001_04101_00009_mirimage_uncal.fits'\n",
    "SciFile = '/Users/ajames/Documents/JWST Data/GO2538/GJ14/uncal/jw02538003001_04101_00001_mirimage_uncal.fits'\n",
    "\n",
    "# Had intientions to make this work for when the Science file is brighter but I dont think I did \n",
    "IsSciBrighter = False\n",
    "\n",
    "# KernelPix is the size of the kernel in pixels, this is used to determine how many groups to mask\n",
    "# Default is 15 Pixels - I havent tested this with other values, but it does change dramatically\n",
    "KernelPix = 15\n",
    "\n",
    "# Method is the method used to determine the number of groups to mask, there are a few options:\n",
    "    # MaxPixel : Compares the two images to see when the max pixel has the same counts\n",
    "        # This is honestly a terrible idea, as it is very sensitive to cosmic rays\n",
    "    # Summed : Sums all the values in the kernel, and matches this value\n",
    "    # Nan : an argument passed onto Summed (Summed+Nan) to ignore values below half the max pixel count (Used to better focus on the lobes of the Miri images.)\n",
    "Method = \"Summed+Nan\"\n",
    "\n",
    "FindNumGroups(RefFile, SciFile, IsSciBrighter, KernelPix, Method)"
   ]
  },
  {
   "cell_type": "markdown",
   "id": "5c8e435f",
   "metadata": {},
   "source": [
    "### Multi File Example"
   ]
  },
  {
   "cell_type": "code",
   "execution_count": null,
   "id": "06f944ce",
   "metadata": {},
   "outputs": [
    {
     "name": "stdout",
     "output_type": "stream",
     "text": [
      "Found 4 background files.\n",
      "Found 2 science files.\n",
      "Found 9 reference files.\n",
      "Found 6 target acquisition files.\n"
     ]
    },
    {
     "data": {
      "application/vnd.microsoft.datawrangler.viewer.v0+json": {
       "columns": [
        {
         "name": "index",
         "rawType": "object",
         "type": "string"
        },
        {
         "name": "/Users/ajames/Documents/JWST Data/GO2538/GJ14/uncal/jw02538004001_04101_00009_mirimage_uncal.fits",
         "rawType": "object",
         "type": "unknown"
        },
        {
         "name": "/Users/ajames/Documents/JWST Data/GO2538/GJ14/uncal/jw02538004001_04101_00008_mirimage_uncal.fits",
         "rawType": "object",
         "type": "unknown"
        },
        {
         "name": "/Users/ajames/Documents/JWST Data/GO2538/GJ14/uncal/jw02538004001_04101_00001_mirimage_uncal.fits",
         "rawType": "object",
         "type": "unknown"
        },
        {
         "name": "/Users/ajames/Documents/JWST Data/GO2538/GJ14/uncal/jw02538004001_04101_00002_mirimage_uncal.fits",
         "rawType": "object",
         "type": "unknown"
        },
        {
         "name": "/Users/ajames/Documents/JWST Data/GO2538/GJ14/uncal/jw02538004001_04101_00003_mirimage_uncal.fits",
         "rawType": "object",
         "type": "unknown"
        },
        {
         "name": "/Users/ajames/Documents/JWST Data/GO2538/GJ14/uncal/jw02538004001_04101_00005_mirimage_uncal.fits",
         "rawType": "object",
         "type": "unknown"
        },
        {
         "name": "/Users/ajames/Documents/JWST Data/GO2538/GJ14/uncal/jw02538004001_04101_00004_mirimage_uncal.fits",
         "rawType": "object",
         "type": "unknown"
        },
        {
         "name": "/Users/ajames/Documents/JWST Data/GO2538/GJ14/uncal/jw02538004001_04101_00007_mirimage_uncal.fits",
         "rawType": "object",
         "type": "unknown"
        },
        {
         "name": "/Users/ajames/Documents/JWST Data/GO2538/GJ14/uncal/jw02538004001_04101_00006_mirimage_uncal.fits",
         "rawType": "object",
         "type": "unknown"
        }
       ],
       "ref": "38fe77f2-a03c-4f47-aeff-cd81f28332ca",
       "rows": [
        [
         "/Users/ajames/Documents/JWST Data/GO2538/GJ14/uncal/jw02538003001_04101_00001_mirimage_uncal.fits",
         "215",
         "253",
         "384",
         "297",
         "377",
         "292",
         "348",
         "207",
         "299"
        ],
        [
         "/Users/ajames/Documents/JWST Data/GO2538/GJ14/uncal/jw02538002001_04101_00001_mirimage_uncal.fits",
         "363",
         "383",
         "486",
         "455",
         "499",
         "430",
         "492",
         "347",
         "418"
        ]
       ],
       "shape": {
        "columns": 9,
        "rows": 2
       }
      },
      "text/html": [
       "<div>\n",
       "<style scoped>\n",
       "    .dataframe tbody tr th:only-of-type {\n",
       "        vertical-align: middle;\n",
       "    }\n",
       "\n",
       "    .dataframe tbody tr th {\n",
       "        vertical-align: top;\n",
       "    }\n",
       "\n",
       "    .dataframe thead th {\n",
       "        text-align: right;\n",
       "    }\n",
       "</style>\n",
       "<table border=\"1\" class=\"dataframe\">\n",
       "  <thead>\n",
       "    <tr style=\"text-align: right;\">\n",
       "      <th></th>\n",
       "      <th>/Users/ajames/Documents/JWST Data/GO2538/GJ14/uncal/jw02538004001_04101_00009_mirimage_uncal.fits</th>\n",
       "      <th>/Users/ajames/Documents/JWST Data/GO2538/GJ14/uncal/jw02538004001_04101_00008_mirimage_uncal.fits</th>\n",
       "      <th>/Users/ajames/Documents/JWST Data/GO2538/GJ14/uncal/jw02538004001_04101_00001_mirimage_uncal.fits</th>\n",
       "      <th>/Users/ajames/Documents/JWST Data/GO2538/GJ14/uncal/jw02538004001_04101_00002_mirimage_uncal.fits</th>\n",
       "      <th>/Users/ajames/Documents/JWST Data/GO2538/GJ14/uncal/jw02538004001_04101_00003_mirimage_uncal.fits</th>\n",
       "      <th>/Users/ajames/Documents/JWST Data/GO2538/GJ14/uncal/jw02538004001_04101_00005_mirimage_uncal.fits</th>\n",
       "      <th>/Users/ajames/Documents/JWST Data/GO2538/GJ14/uncal/jw02538004001_04101_00004_mirimage_uncal.fits</th>\n",
       "      <th>/Users/ajames/Documents/JWST Data/GO2538/GJ14/uncal/jw02538004001_04101_00007_mirimage_uncal.fits</th>\n",
       "      <th>/Users/ajames/Documents/JWST Data/GO2538/GJ14/uncal/jw02538004001_04101_00006_mirimage_uncal.fits</th>\n",
       "    </tr>\n",
       "  </thead>\n",
       "  <tbody>\n",
       "    <tr>\n",
       "      <th>/Users/ajames/Documents/JWST Data/GO2538/GJ14/uncal/jw02538003001_04101_00001_mirimage_uncal.fits</th>\n",
       "      <td>215</td>\n",
       "      <td>253</td>\n",
       "      <td>384</td>\n",
       "      <td>297</td>\n",
       "      <td>377</td>\n",
       "      <td>292</td>\n",
       "      <td>348</td>\n",
       "      <td>207</td>\n",
       "      <td>299</td>\n",
       "    </tr>\n",
       "    <tr>\n",
       "      <th>/Users/ajames/Documents/JWST Data/GO2538/GJ14/uncal/jw02538002001_04101_00001_mirimage_uncal.fits</th>\n",
       "      <td>363</td>\n",
       "      <td>383</td>\n",
       "      <td>486</td>\n",
       "      <td>455</td>\n",
       "      <td>499</td>\n",
       "      <td>430</td>\n",
       "      <td>492</td>\n",
       "      <td>347</td>\n",
       "      <td>418</td>\n",
       "    </tr>\n",
       "  </tbody>\n",
       "</table>\n",
       "</div>"
      ],
      "text/plain": [
       "                                                   /Users/ajames/Documents/JWST Data/GO2538/GJ14/uncal/jw02538004001_04101_00009_mirimage_uncal.fits  \\\n",
       "/Users/ajames/Documents/JWST Data/GO2538/GJ14/u...                                                215                                                  \n",
       "/Users/ajames/Documents/JWST Data/GO2538/GJ14/u...                                                363                                                  \n",
       "\n",
       "                                                   /Users/ajames/Documents/JWST Data/GO2538/GJ14/uncal/jw02538004001_04101_00008_mirimage_uncal.fits  \\\n",
       "/Users/ajames/Documents/JWST Data/GO2538/GJ14/u...                                                253                                                  \n",
       "/Users/ajames/Documents/JWST Data/GO2538/GJ14/u...                                                383                                                  \n",
       "\n",
       "                                                   /Users/ajames/Documents/JWST Data/GO2538/GJ14/uncal/jw02538004001_04101_00001_mirimage_uncal.fits  \\\n",
       "/Users/ajames/Documents/JWST Data/GO2538/GJ14/u...                                                384                                                  \n",
       "/Users/ajames/Documents/JWST Data/GO2538/GJ14/u...                                                486                                                  \n",
       "\n",
       "                                                   /Users/ajames/Documents/JWST Data/GO2538/GJ14/uncal/jw02538004001_04101_00002_mirimage_uncal.fits  \\\n",
       "/Users/ajames/Documents/JWST Data/GO2538/GJ14/u...                                                297                                                  \n",
       "/Users/ajames/Documents/JWST Data/GO2538/GJ14/u...                                                455                                                  \n",
       "\n",
       "                                                   /Users/ajames/Documents/JWST Data/GO2538/GJ14/uncal/jw02538004001_04101_00003_mirimage_uncal.fits  \\\n",
       "/Users/ajames/Documents/JWST Data/GO2538/GJ14/u...                                                377                                                  \n",
       "/Users/ajames/Documents/JWST Data/GO2538/GJ14/u...                                                499                                                  \n",
       "\n",
       "                                                   /Users/ajames/Documents/JWST Data/GO2538/GJ14/uncal/jw02538004001_04101_00005_mirimage_uncal.fits  \\\n",
       "/Users/ajames/Documents/JWST Data/GO2538/GJ14/u...                                                292                                                  \n",
       "/Users/ajames/Documents/JWST Data/GO2538/GJ14/u...                                                430                                                  \n",
       "\n",
       "                                                   /Users/ajames/Documents/JWST Data/GO2538/GJ14/uncal/jw02538004001_04101_00004_mirimage_uncal.fits  \\\n",
       "/Users/ajames/Documents/JWST Data/GO2538/GJ14/u...                                                348                                                  \n",
       "/Users/ajames/Documents/JWST Data/GO2538/GJ14/u...                                                492                                                  \n",
       "\n",
       "                                                   /Users/ajames/Documents/JWST Data/GO2538/GJ14/uncal/jw02538004001_04101_00007_mirimage_uncal.fits  \\\n",
       "/Users/ajames/Documents/JWST Data/GO2538/GJ14/u...                                                207                                                  \n",
       "/Users/ajames/Documents/JWST Data/GO2538/GJ14/u...                                                347                                                  \n",
       "\n",
       "                                                   /Users/ajames/Documents/JWST Data/GO2538/GJ14/uncal/jw02538004001_04101_00006_mirimage_uncal.fits  \n",
       "/Users/ajames/Documents/JWST Data/GO2538/GJ14/u...                                                299                                                 \n",
       "/Users/ajames/Documents/JWST Data/GO2538/GJ14/u...                                                418                                                 "
      ]
     },
     "metadata": {},
     "output_type": "display_data"
    }
   ],
   "source": [
    "root_path = '/Users/ajames/Documents/JWST Data/GO2538/GJ14/uncal/'\n",
    "background_files, science_files, reference_files, target_acquisition_files = Find_File_Types(root_path, file_types=[\"Background\", \"Science\", \"Reference\", \"TA\"], verbose=False)\n",
    "\n",
    "df = pd.DataFrame({}, index=science_files, columns=reference_files)\n",
    "for i_Science, i_Reference in product(range(len(science_files)), range(len(reference_files))):\n",
    "    groups_to_mask = FindNumGroups(reference_files[i_Reference], science_files[i_Science], IsSciBrighter=False, KernelPix=15, Method=\"Summed+Nan\", verbose=False)\n",
    "    df.at[science_files[i_Science], reference_files[i_Reference]] = groups_to_mask\n",
    "\n",
    "display(df)\n"
   ]
  },
  {
   "cell_type": "code",
   "execution_count": null,
   "id": "e24e6e7f",
   "metadata": {},
   "outputs": [],
   "source": []
  }
 ],
 "metadata": {
  "kernelspec": {
   "display_name": "DataAnalysis",
   "language": "python",
   "name": "python3"
  },
  "language_info": {
   "codemirror_mode": {
    "name": "ipython",
    "version": 3
   },
   "file_extension": ".py",
   "mimetype": "text/x-python",
   "name": "python",
   "nbconvert_exporter": "python",
   "pygments_lexer": "ipython3",
   "version": "3.13.2"
  }
 },
 "nbformat": 4,
 "nbformat_minor": 5
}
